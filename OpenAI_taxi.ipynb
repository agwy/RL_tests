{
 "cells": [
  {
   "cell_type": "code",
   "execution_count": 1,
   "metadata": {},
   "outputs": [],
   "source": [
    "import gym\n",
    "import random\n",
    "import numpy as np\n",
    "from matplotlib import pyplot as plt"
   ]
  },
  {
   "cell_type": "code",
   "execution_count": 2,
   "metadata": {},
   "outputs": [
    {
     "name": "stdout",
     "output_type": "stream",
     "text": [
      "Discrete(6)\n",
      "Discrete(500)\n"
     ]
    }
   ],
   "source": [
    "env = gym.make('Taxi-v3')\n",
    "print(env.action_space)\n",
    "print(env.observation_space)"
   ]
  },
  {
   "cell_type": "code",
   "execution_count": 3,
   "metadata": {},
   "outputs": [
    {
     "name": "stdout",
     "output_type": "stream",
     "text": [
      "206\n",
      "+---------+\n",
      "|R: | : :\u001b[34;1mG\u001b[0m|\n",
      "| : | : : |\n",
      "|\u001b[43m \u001b[0m: : : : |\n",
      "| | : | : |\n",
      "|\u001b[35mY\u001b[0m| : |B: |\n",
      "+---------+\n",
      "\n",
      "(26, -10, False, {'prob': 1.0})\n",
      "(126, -1, False, {'prob': 1.0})\n",
      "(326, -1, False, {'prob': 1.0})\n",
      "(426, -1, False, {'prob': 1.0})\n",
      "+---------+\n",
      "|R: | : :\u001b[34;1mG\u001b[0m|\n",
      "| : | : : |\n",
      "| : : : : |\n",
      "| | : | : |\n",
      "|\u001b[35mY\u001b[0m|\u001b[43m \u001b[0m: |B: |\n",
      "+---------+\n",
      "  (South)\n",
      "(426, -10, False, {'prob': 1.0})\n",
      "+---------+\n",
      "|R: | : :\u001b[34;1mG\u001b[0m|\n",
      "| : | : : |\n",
      "| : : : : |\n",
      "| | : | : |\n",
      "|\u001b[35mY\u001b[0m|\u001b[43m \u001b[0m: |B: |\n",
      "+---------+\n",
      "  (Dropoff)\n"
     ]
    }
   ],
   "source": [
    "# Some actions to play around with the environment\n",
    "env.seed(12)\n",
    "print(env.reset())\n",
    "env.render()\n",
    "env.step(1)\n",
    "env.step(1)\n",
    "env.step(2)\n",
    "env.step(2)\n",
    "env.step(2)\n",
    "env.step(2)\n",
    "env.step(1)\n",
    "env.step(1)\n",
    "print(env.step(4))\n",
    "print(env.step(0))\n",
    "env.step(0)\n",
    "print(env.step(0))\n",
    "print(env.step(0))\n",
    "env.render()\n",
    "env.step(3)\n",
    "print(env.step(5))\n",
    "env.render()\n",
    "\n"
   ]
  },
  {
   "cell_type": "markdown",
   "metadata": {},
   "source": [
    "# Some random-run statistics\n",
    "\n",
    "To get an idea of how our initial random system behaves, we'll take a look at the number of steps in each episode, and the acrued reward, over 5000 steps."
   ]
  },
  {
   "cell_type": "code",
   "execution_count": 4,
   "metadata": {},
   "outputs": [
    {
     "name": "stdout",
     "output_type": "stream",
     "text": [
      "243\n",
      "Reset: s = 419, r = -10, its = 200.\n",
      "Reset: s = 162, r = -1, its = 200.\n",
      "Reset: s = 152, r = -1, its = 200.\n",
      "Reset: s = 3, r = -1, its = 200.\n",
      "Reset: s = 72, r = -10, its = 200.\n",
      "Reset: s = 384, r = -10, its = 200.\n",
      "Reset: s = 189, r = -1, its = 200.\n",
      "Reset: s = 304, r = -10, its = 200.\n",
      "Reset: s = 231, r = -10, its = 200.\n",
      "Reset: s = 54, r = -1, its = 200.\n",
      "Reset: s = 73, r = -10, its = 200.\n",
      "Reset: s = 119, r = -10, its = 200.\n",
      "Reset: s = 403, r = -1, its = 200.\n",
      "Reset: s = 0, r = 20, its = 108.\n",
      "Reset: s = 483, r = -10, its = 200.\n",
      "Reset: s = 401, r = -1, its = 200.\n",
      "Reset: s = 158, r = -1, its = 200.\n",
      "Reset: s = 126, r = -10, its = 200.\n",
      "Reset: s = 171, r = -1, its = 200.\n",
      "Reset: s = 0, r = 20, its = 154.\n",
      "Reset: s = 382, r = -1, its = 200.\n",
      "Reset: s = 214, r = -1, its = 200.\n",
      "Reset: s = 151, r = -10, its = 200.\n",
      "Reset: s = 475, r = 20, its = 163.\n",
      "Reset: s = 376, r = -10, its = 200.\n",
      "Total number of iterations per episode: [200, 200, 200, 200, 200, 200, 200, 200, 200, 200, 200, 200, 200, 108, 200, 200, 200, 200, 200, 154, 200, 200, 200, 163, 200, 175]\n",
      "Total reward per episode: [-794, -839, -794, -731, -677, -731, -722, -821, -848, -785, -812, -749, -704, -375, -758, -830, -749, -803, -794, -583, -767, -740, -740, -565, -758, -625]\n"
     ]
    }
   ],
   "source": [
    "env.seed(11)\n",
    "print(env.reset())\n",
    "\n",
    "epi = 0 # episode counter\n",
    "g = [0] # reward in each episode\n",
    "its = [0] # number of iterations in each episode\n",
    "\n",
    "for _ in range(5000):\n",
    "    s, r, d, info = env.step(env.action_space.sample())#env.action_space.sample())\n",
    "    g[epi] += r\n",
    "    its[epi] += 1\n",
    "    \n",
    "    if d == True:\n",
    "        print(\"Reset: s = {0}, r = {1}, its = {2}.\".format(s, r, its[epi]))\n",
    "        env.reset()\n",
    "        epi += 1\n",
    "        g.append(0)\n",
    "        its.append(0)\n",
    "env.close()\n",
    "\n",
    "print(\"Total number of iterations per episode: {0}\".format(its))\n",
    "print(\"Total reward per episode: {0}\".format(g))"
   ]
  },
  {
   "cell_type": "markdown",
   "metadata": {},
   "source": [
    "# Q-learning\n",
    "\n",
    "Note that the cap on the num_its is 200. This may make it hard.\n",
    "\n",
    "Guess on behavior: first, illegal dropoffs will be learned to be avoided, over episodes. Then, when a positive pickup is encountered, this will be reinforced enough so that it will always occur. In Sarsa-TD, deep neagtive reward could potentially be propagated back. "
   ]
  },
  {
   "cell_type": "code",
   "execution_count": 61,
   "metadata": {},
   "outputs": [
    {
     "data": {
      "text/plain": [
       "[11]"
      ]
     },
     "execution_count": 61,
     "metadata": {},
     "output_type": "execute_result"
    }
   ],
   "source": [
    "#Q_Q = np.zeros((env.observation_space.n, env.action_space.n))\n",
    "Q_Q = -100. * np.ones((env.observation_space.n, env.action_space.n))\n",
    "alpha_Q = .1\n",
    "eps_Q = .1\n",
    "\n",
    "reward_Q = [] # List of total reward for each episode.\n",
    "num_its_Q = [] # Lis of total number of iterations in each episode.\n",
    "epis_Q = 0 # Counter of the number of episodes.\n",
    "env.seed(11)"
   ]
  },
  {
   "cell_type": "code",
   "execution_count": 62,
   "metadata": {},
   "outputs": [],
   "source": [
    "num_epis_Q = 10000 # Number of episodes to train Q-function"
   ]
  },
  {
   "cell_type": "code",
   "execution_count": 63,
   "metadata": {},
   "outputs": [],
   "source": [
    "for _ in range(num_epis_Q):\n",
    "    reward_Q.append(0)\n",
    "    num_its_Q.append(0)\n",
    "    s = env.reset()\n",
    "    a = env.action_space.sample()\n",
    "    for i in range(200):\n",
    "        s_n, r, done, _ = env.step(a) # Sample new state, with action a.\n",
    "        Q_Q[s,a] = Q_Q[s,a] + alpha_Q * (r + np.max(Q_Q[s_n, :]) - Q_Q[s,a]) # Q-update\n",
    "        reward_Q[epis_Q] += r\n",
    "        num_its_Q[epis_Q] += 1\n",
    "\n",
    "        s = s_n\n",
    "        # epsilon-greedy sampling of new action:\n",
    "        if np.random.uniform() < eps_Q:\n",
    "            a = env.action_space.sample()\n",
    "        else: \n",
    "            a = np.argmax(Q_Q[s, :])\n",
    "\n",
    "        if done:\n",
    "            break\n",
    "    epis_Q += 1"
   ]
  },
  {
   "cell_type": "code",
   "execution_count": 64,
   "metadata": {},
   "outputs": [
    {
     "data": {
      "text/plain": [
       "(-100, 0)"
      ]
     },
     "execution_count": 64,
     "metadata": {},
     "output_type": "execute_result"
    },
    {
     "data": {
      "image/png": "[encoded data removed]",
      "text/plain": [
       "<Figure size 432x288 with 1 Axes>"
      ]
     },
     "metadata": {
      "needs_background": "light"
     },
     "output_type": "display_data"
    }
   ],
   "source": [
    "plt.plot(reward_Q)\n",
    "axes = plt.gca()\n",
    "axes.set_ylim([-100, 0])"
   ]
  },
  {
   "cell_type": "code",
   "execution_count": 15,
   "metadata": {},
   "outputs": [
    {
     "data": {
      "text/plain": [
       "[19,\n",
       " 15,\n",
       " 18,\n",
       " 16,\n",
       " 13,\n",
       " 13,\n",
       " 14,\n",
       " 12,\n",
       " 17,\n",
       " 13,\n",
       " 9,\n",
       " 16,\n",
       " 19,\n",
       " 18,\n",
       " 12,\n",
       " 17,\n",
       " 21,\n",
       " 12,\n",
       " 15,\n",
       " 12,\n",
       " 0]"
      ]
     },
     "execution_count": 15,
     "metadata": {},
     "output_type": "execute_result"
    }
   ],
   "source": [
    "num_its_Q[epis_Q - 20:]"
   ]
  },
  {
   "cell_type": "markdown",
   "metadata": {},
   "source": [
    "Let's see how it performs:"
   ]
  },
  {
   "cell_type": "code",
   "execution_count": 17,
   "metadata": {},
   "outputs": [
    {
     "name": "stdout",
     "output_type": "stream",
     "text": [
      "+---------+\n",
      "|\u001b[43mR\u001b[0m: | : :G|\n",
      "| : | : : |\n",
      "| : : : : |\n",
      "| | : | : |\n",
      "|\u001b[34;1mY\u001b[0m| : |\u001b[35mB\u001b[0m: |\n",
      "+---------+\n",
      "  (West)\n",
      "+---------+\n",
      "|R: | : :G|\n",
      "|\u001b[43m \u001b[0m: | : : |\n",
      "| : : : : |\n",
      "| | : | : |\n",
      "|\u001b[34;1mY\u001b[0m| : |\u001b[35mB\u001b[0m: |\n",
      "+---------+\n",
      "  (South)\n",
      "+---------+\n",
      "|R: | : :G|\n",
      "| : | : : |\n",
      "|\u001b[43m \u001b[0m: : : : |\n",
      "| | : | : |\n",
      "|\u001b[34;1mY\u001b[0m| : |\u001b[35mB\u001b[0m: |\n",
      "+---------+\n",
      "  (South)\n",
      "+---------+\n",
      "|R: | : :G|\n",
      "| : | : : |\n",
      "| : : : : |\n",
      "|\u001b[43m \u001b[0m| : | : |\n",
      "|\u001b[34;1mY\u001b[0m| : |\u001b[35mB\u001b[0m: |\n",
      "+---------+\n",
      "  (South)\n",
      "+---------+\n",
      "|R: | : :G|\n",
      "| : | : : |\n",
      "| : : : : |\n",
      "| | : | : |\n",
      "|\u001b[34;1m\u001b[43mY\u001b[0m\u001b[0m| : |\u001b[35mB\u001b[0m: |\n",
      "+---------+\n",
      "  (South)\n",
      "+---------+\n",
      "|R: | : :G|\n",
      "| : | : : |\n",
      "| : : : : |\n",
      "| | : | : |\n",
      "|\u001b[42mY\u001b[0m| : |\u001b[35mB\u001b[0m: |\n",
      "+---------+\n",
      "  (Pickup)\n",
      "+---------+\n",
      "|R: | : :G|\n",
      "| : | : : |\n",
      "| : : : : |\n",
      "|\u001b[42m_\u001b[0m| : | : |\n",
      "|Y| : |\u001b[35mB\u001b[0m: |\n",
      "+---------+\n",
      "  (North)\n",
      "+---------+\n",
      "|R: | : :G|\n",
      "| : | : : |\n",
      "|\u001b[42m_\u001b[0m: : : : |\n",
      "| | : | : |\n",
      "|Y| : |\u001b[35mB\u001b[0m: |\n",
      "+---------+\n",
      "  (North)\n",
      "+---------+\n",
      "|R: | : :G|\n",
      "| : | : : |\n",
      "| :\u001b[42m_\u001b[0m: : : |\n",
      "| | : | : |\n",
      "|Y| : |\u001b[35mB\u001b[0m: |\n",
      "+---------+\n",
      "  (East)\n",
      "+---------+\n",
      "|R: | : :G|\n",
      "| : | : : |\n",
      "| : :\u001b[42m_\u001b[0m: : |\n",
      "| | : | : |\n",
      "|Y| : |\u001b[35mB\u001b[0m: |\n",
      "+---------+\n",
      "  (East)\n",
      "+---------+\n",
      "|R: | : :G|\n",
      "| : | : : |\n",
      "| : : :\u001b[42m_\u001b[0m: |\n",
      "| | : | : |\n",
      "|Y| : |\u001b[35mB\u001b[0m: |\n",
      "+---------+\n",
      "  (East)\n",
      "+---------+\n",
      "|R: | : :G|\n",
      "| : | : : |\n",
      "| : : : : |\n",
      "| | : |\u001b[42m_\u001b[0m: |\n",
      "|Y| : |\u001b[35mB\u001b[0m: |\n",
      "+---------+\n",
      "  (South)\n",
      "+---------+\n",
      "|R: | : :G|\n",
      "| : | : : |\n",
      "| : : : : |\n",
      "| | : | : |\n",
      "|Y| : |\u001b[35m\u001b[42mB\u001b[0m\u001b[0m: |\n",
      "+---------+\n",
      "  (South)\n",
      "+---------+\n",
      "|R: | : :G|\n",
      "| : | : : |\n",
      "| : : : : |\n",
      "| | : | : |\n",
      "|Y| : |\u001b[35m\u001b[34;1m\u001b[43mB\u001b[0m\u001b[0m\u001b[0m: |\n",
      "+---------+\n",
      "  (Dropoff)\n"
     ]
    }
   ],
   "source": [
    "d = False\n",
    "s = env.reset()\n",
    "while not d:\n",
    "    s, r, d, _ = env.step(np.argmax(Q_Q[s, :]))\n",
    "    env.render()"
   ]
  },
  {
   "cell_type": "markdown",
   "metadata": {},
   "source": [
    "Let's think for a moment through this algorithm. Due to reducibility of the MDP, suppose we always start with the same pick-up and drop-off positions.\n",
    "\n",
    "So the algorithm rolls: on the first run, every time it does an illegal pickup dropoff, it gets a very negative reward and backs this up. When it takes another action, it gets a smaller negative Q-update. Thus, everytime it chooses a new exploitative action, the algorithm will choose ones that it hasn't tried before. So it quickly learns not to do illegal pick-ups or drop-offs. Then, we need to be lucky enough that in an episode where the algorithm randomly picks up the person, it lands on the drop off state, where if it ahs been there a couple of times, it'll choose the drop-off action if exploiting. Then, jackpot! High reward! (Can we check this: that there is no feedback for good pickup?)\n",
    "\n",
    "### Q initialization\n",
    "\n",
    "Note that in this description, the Q-initialization mattered. If it were much more negative than -10, then it will always try to choose the same negative actions untill enough exploration has taken place.\n",
    "\n",
    "**Update:** Actually not the case, because Q-value gets backed up wrt next Q-value, cancelling the translations out. Only relative difference between the state-action values differ. Choose different types of random inits?\n",
    "\n",
    "\n",
    "### Reward signal\n",
    "\n",
    "Also, note the problem engineering choices: Here, we have taken the reward signal as given. The choice does influence the learning however."
   ]
  },
  {
   "cell_type": "markdown",
   "metadata": {},
   "source": [
    "Cool, Q-learning works quite quick on this example. Let's compare it to some of its friends.\n",
    "\n",
    "Some stuff to try: \n",
    "- vary alpha\n",
    "- vary eps\n",
    "- Compare over different seeds (although less relevant here due to limited stochasticity)\n",
    "- Check variance\n",
    "- Computational time\n",
    "\n",
    "Compare **overall** performace to other algorithms, in terms of average reward and learning speed."
   ]
  },
  {
   "cell_type": "markdown",
   "metadata": {},
   "source": [
    "# Sarsa-TD(0)"
   ]
  },
  {
   "cell_type": "code",
   "execution_count": 25,
   "metadata": {},
   "outputs": [],
   "source": [
    "Q_TD = np.zeros((env.observation_space.n, env.action_space.n))\n",
    "alpha_TD = .1\n",
    "eps_TD = .1\n",
    "\n",
    "reward_TD = [] # List of total reward for each episode.\n",
    "num_its_TD = [] # Lis of total number of iterations in each episode.\n",
    "epis_TD = 0 # Counter of the number of episodes.\n",
    "env.seed(11)\n"
   ]
  },
  {
   "cell_type": "code",
   "execution_count": 26,
   "metadata": {},
   "outputs": [],
   "source": [
    "num_epis_TD = 10000"
   ]
  },
  {
   "cell_type": "code",
   "execution_count": 27,
   "metadata": {},
   "outputs": [],
   "source": [
    "for _ in range(num_epis_TD):\n",
    "    reward_TD.append(0)\n",
    "    num_its_TD.append(0)\n",
    "    s = env.reset()\n",
    "    a = env.action_space.sample()\n",
    "    for i in range(200):\n",
    "        s_n, r, done, _ = env.step(a) # Sample new state, with action a.\n",
    "        # epsilon-greedy sampling of new action:\n",
    "        if np.random.uniform() < eps_TD:\n",
    "            a_n = env.action_space.sample()\n",
    "        else: \n",
    "            a_n = np.argmax(Q_TD[s_n, :])\n",
    "        \n",
    "        \n",
    "        Q_TD[s,a] = Q_TD[s,a] + alpha_TD * (r + Q_TD[s_n, a_n] - Q_TD[s,a]) # Q-update\n",
    "        reward_TD[epis_TD] += r\n",
    "        num_its_TD[epis_TD] += 1\n",
    "\n",
    "        s = s_n\n",
    "        a = a_n\n",
    "\n",
    "        if done:\n",
    "            break\n",
    "    epis_TD += 1"
   ]
  },
  {
   "cell_type": "code",
   "execution_count": 28,
   "metadata": {},
   "outputs": [
    {
     "data": {
      "text/plain": [
       "(-100, 0)"
      ]
     },
     "execution_count": 28,
     "metadata": {},
     "output_type": "execute_result"
    },
    {
     "data": {
      "image/png": "[encoded data removed]",
      "text/plain": [
       "<Figure size 432x288 with 1 Axes>"
      ]
     },
     "metadata": {
      "needs_background": "light"
     },
     "output_type": "display_data"
    }
   ],
   "source": [
    "plt.plot(reward_TD)\n",
    "axes = plt.gca()\n",
    "axes.set_ylim([-100, 0])"
   ]
  },
  {
   "cell_type": "markdown",
   "metadata": {},
   "source": [
    "Sarsa-TD seems to learn much slower. Just because of eps% chance of comparing of backing up value wrt a random action.\n",
    "\n",
    "**TODO:** Check literature on a comparison."
   ]
  },
  {
   "cell_type": "markdown",
   "metadata": {},
   "source": [
    "# Sarsa - TD(lambda), backward view\n",
    "\n",
    "Note that this algorithm is more computationally costly. Note that it takes more time to run."
   ]
  },
  {
   "cell_type": "code",
   "execution_count": 53,
   "metadata": {},
   "outputs": [
    {
     "data": {
      "text/plain": [
       "[11]"
      ]
     },
     "execution_count": 53,
     "metadata": {},
     "output_type": "execute_result"
    }
   ],
   "source": [
    "Q_l = np.zeros((env.observation_space.n, env.action_space.n))\n",
    "alpha_l = .1\n",
    "eps_l = .1\n",
    "lambda_l= .8 # Lambda parameter\n",
    "\n",
    "reward_l = [] # List of total reward for each episode.\n",
    "num_its_l = [] # Lis of total number of iterations in each episode.\n",
    "epis_l = 0 # Counter of the number of episodes.\n",
    "env.seed(11)\n"
   ]
  },
  {
   "cell_type": "code",
   "execution_count": 54,
   "metadata": {},
   "outputs": [],
   "source": [
    "num_epis_l = 2000 # Let's run it for less time. It's computationally intensive (about 2500 times more costly per step)"
   ]
  },
  {
   "cell_type": "code",
   "execution_count": 55,
   "metadata": {},
   "outputs": [],
   "source": [
    "for _ in range(num_epis_l):\n",
    "    E_l = np.zeros((env.observation_space.n, env.action_space.n)) # Eligibility trace\n",
    "    reward_l.append(0)\n",
    "    num_its_l.append(0)\n",
    "    s = env.reset()\n",
    "    a = env.action_space.sample()\n",
    "    for i in range(200):\n",
    "        s_n, r, done, _ = env.step(a) # Sample new state, with action a.\n",
    "        # epsilon-greedy sampling of new action:\n",
    "        if np.random.uniform() < eps_l:\n",
    "            a_n = env.action_space.sample()\n",
    "        else: \n",
    "            a_n = np.argmax(Q_l[s_n, :])\n",
    "        \n",
    "        # Spike in trace\n",
    "        E_l[s_n, a_n] += 1\n",
    "        \n",
    "        # Q-update\n",
    "        Q_l = Q_l + alpha_l * E_l * (r + Q_l[s_n, a_n] - Q_l[s,a]) \n",
    "        \n",
    "        # Eligibilit trace update\n",
    "        E_l = lambda_l * E_l\n",
    "        \n",
    "        # Reward-update\n",
    "        reward_l[epis_l] += r\n",
    "        num_its_l[epis_l] += 1\n",
    "\n",
    "        s = s_n\n",
    "        a = a_n\n",
    "\n",
    "        if done:\n",
    "            break\n",
    "    epis_l += 1"
   ]
  },
  {
   "cell_type": "code",
   "execution_count": 56,
   "metadata": {},
   "outputs": [
    {
     "data": {
      "text/plain": [
       "(-100, 0)"
      ]
     },
     "execution_count": 56,
     "metadata": {},
     "output_type": "execute_result"
    },
    {
     "data": {
      "image/png": "[encoded data removed]",
      "text/plain": [
       "<Figure size 432x288 with 1 Axes>"
      ]
     },
     "metadata": {
      "needs_background": "light"
     },
     "output_type": "display_data"
    }
   ],
   "source": [
    "plt.plot(reward_l)\n",
    "axes = plt.gca()\n",
    "axes.set_ylim([-100, 0])"
   ]
  },
  {
   "cell_type": "code",
   "execution_count": 37,
   "metadata": {},
   "outputs": [],
   "source": [
    "T = np.ones((5,6))"
   ]
  },
  {
   "cell_type": "code",
   "execution_count": 38,
   "metadata": {},
   "outputs": [
    {
     "data": {
      "text/plain": [
       "array([[3., 3., 3., 3., 3., 3.],\n",
       "       [3., 3., 3., 3., 3., 3.],\n",
       "       [3., 3., 3., 3., 3., 3.],\n",
       "       [3., 3., 3., 3., 3., 3.],\n",
       "       [3., 3., 3., 3., 3., 3.]])"
      ]
     },
     "execution_count": 38,
     "metadata": {},
     "output_type": "execute_result"
    }
   ],
   "source": [
    "T * 3"
   ]
  },
  {
   "cell_type": "code",
   "execution_count": null,
   "metadata": {},
   "outputs": [],
   "source": []
  }
 ],
 "metadata": {
  "kernelspec": {
   "display_name": "Python 3",
   "language": "python",
   "name": "python3"
  },
  "language_info": {
   "codemirror_mode": {
    "name": "ipython",
    "version": 3
   },
   "file_extension": ".py",
   "mimetype": "text/x-python",
   "name": "python",
   "nbconvert_exporter": "python",
   "pygments_lexer": "ipython3",
   "version": "3.7.3"
  }
 },
 "nbformat": 4,
 "nbformat_minor": 2
}
