{
 "cells": [
  {
   "cell_type": "code",
   "execution_count": 2,
   "metadata": {},
   "outputs": [],
   "source": [
    "import threading\n",
    "import time\n",
    "import multiprocessing"
   ]
  },
  {
   "cell_type": "markdown",
   "metadata": {},
   "source": [
    "We'll test whether:\n",
    "1) there is parallilisation\n",
    "2) if there is an overhead in copying\n",
    "3) whether overwiting happens\n",
    "4) how data can be transferred to global memory\n",
    "5) What the option are (daemon, ...), joining, ...\n",
    "\n",
    "For some basic info on threading vs multiprocessing, and locking, see [this link](https://timber.io/blog/multiprocessing-vs-multithreading-in-python-what-you-need-to-know).\n",
    "\n",
    "Python has a [Global Interpreter Lock (GIL)](https://realpython.com/python-gil/)."
   ]
  },
  {
   "cell_type": "code",
   "execution_count": 7,
   "metadata": {},
   "outputs": [
    {
     "name": "stdout",
     "output_type": "stream",
     "text": [
      "Starting process 0.Starting process 1.\n",
      "\n",
      "Starting process 2.\n",
      "Starting process 3.\n",
      "Starting process 4.\n",
      "Starting process 5.\n",
      "Starting process 6.\n",
      "Starting process 7.\n",
      "Starting process 8.Starting process 9.\n",
      "\n",
      "Finishing process 0.Finishing process 1.\n",
      "\n",
      "Finishing process 2.\n",
      "Finishing process 3.\n",
      "Finishing process 4.\n",
      "Finishing process 5.\n",
      "Finishing process 6.\n",
      "Finishing process 7.\n",
      "Finishing process 8.\n",
      "Finishing process 9.\n"
     ]
    }
   ],
   "source": [
    "def test(i):\n",
    "    print(f\"Starting process {i}.\")\n",
    "    time.sleep(4.)\n",
    "    print(f\"Finishing process {i}.\")\n",
    "\n",
    "for j in range(10):\n",
    "    t = threading.Thread(target = test, args = (j,))\n",
    "    t.start()"
   ]
  },
  {
   "cell_type": "markdown",
   "metadata": {},
   "source": [
    "They seem to be run at the same time... In the explanations it seemed that this wouldn't be the case? Or is it perhaps because during the waiting, the processor can switch tasks?"
   ]
  },
  {
   "cell_type": "code",
   "execution_count": 11,
   "metadata": {},
   "outputs": [
    {
     "name": "stdout",
     "output_type": "stream",
     "text": [
      "Starting process 0.\n",
      "Finishing process 0, took 0.1183311939239502 seconds.\n",
      "Starting process 1.\n",
      "Finishing process 1, took 0.18120050430297852 seconds.\n",
      "Starting process 2.\n",
      "Finishing process 2, took 0.11119675636291504 seconds.\n",
      "Starting process 3.\n",
      "Finishing process 3, took 0.10800290107727051 seconds.\n",
      "Starting process 4.\n",
      "Finishing process 4, took 0.1157844066619873 seconds.\n",
      "Starting process 5.\n",
      "Finishing process 5, took 0.10674524307250977 seconds.\n",
      "Starting process 6.\n",
      "Finishing process 6, took 0.10868406295776367 seconds.\n",
      "Starting process 7.\n",
      "Finishing process 7, took 0.0968780517578125 seconds.\n",
      "Starting process 8.\n",
      "Finishing process 8, took 0.149216890335083 seconds.\n",
      "Starting process 9.\n",
      "Finishing process 9, took 0.13461828231811523 seconds.\n",
      "Total time: 1.286689043045044.\n"
     ]
    }
   ],
   "source": [
    "def test2(i):\n",
    "    print(f\"Starting process {i}.\")\n",
    "    tm = time.time()\n",
    "    k = 0\n",
    "    for k in range(1000000):\n",
    "        k += 1\n",
    "    print(f\"Finishing process {i}, took {time.time() - tm} seconds.\")\n",
    "\n",
    "overall_tm = time.time()\n",
    "for j in range(10):\n",
    "    t = threading.Thread(target = test2, args = (j,))\n",
    "    t.start()\n",
    "    t.join()\n",
    "print(f\"Total time: {time.time() - overall_tm}.\")    "
   ]
  },
  {
   "cell_type": "markdown",
   "metadata": {},
   "source": [
    "This seems to be additive. Now let's try with [multiprocessing](https://www.geeksforgeeks.org/multiprocessing-python-set-1/)."
   ]
  },
  {
   "cell_type": "code",
   "execution_count": 12,
   "metadata": {},
   "outputs": [
    {
     "name": "stdout",
     "output_type": "stream",
     "text": [
      "Total time: 1.7222249507904053.\n"
     ]
    }
   ],
   "source": [
    "overall_tm = time.time()\n",
    "for j in range(10):\n",
    "    p = multiprocessing.Process(target = test2, args = (j,))\n",
    "    p.start()\n",
    "p.join()\n",
    "print(f\"Total time: {time.time() - overall_tm}.\")    "
   ]
  },
  {
   "cell_type": "markdown",
   "metadata": {},
   "source": [
    "There's no print outpur, and total time seems to be higher. What happened?"
   ]
  },
  {
   "cell_type": "code",
   "execution_count": null,
   "metadata": {},
   "outputs": [],
   "source": []
  }
 ],
 "metadata": {
  "kernelspec": {
   "display_name": "Python 3",
   "language": "python",
   "name": "python3"
  },
  "language_info": {
   "codemirror_mode": {
    "name": "ipython",
    "version": 3
   },
   "file_extension": ".py",
   "mimetype": "text/x-python",
   "name": "python",
   "nbconvert_exporter": "python",
   "pygments_lexer": "ipython3",
   "version": "3.6.7"
  }
 },
 "nbformat": 4,
 "nbformat_minor": 2
}
